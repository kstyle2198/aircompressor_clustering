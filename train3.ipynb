{
 "cells": [
  {
   "cell_type": "code",
   "execution_count": null,
   "id": "549043dd",
   "metadata": {},
   "outputs": [],
   "source": [
    "import pandas as pd\n",
    "import pandas_profiling\n",
    "import numpy as np\n",
    "import matplotlib.pyplot as plt\n",
    "import seaborn as sns\n",
    "%matplotlib inline\n",
    "from sklearn.decomposition import PCA\n",
    "from sklearn.cluster import KMeans\n",
    "from sklearn.preprocessing import StandardScaler\n",
    "from sklearn.metrics import pairwise_distances\n",
    "\n",
    "import joblib\n",
    "import warnings\n",
    "warnings.filterwarnings(action='ignore') "
   ]
  },
  {
   "cell_type": "markdown",
   "id": "20823aaf",
   "metadata": {},
   "source": [
    "## 1. Load Train_data"
   ]
  },
  {
   "cell_type": "code",
   "execution_count": null,
   "id": "90bc5348",
   "metadata": {},
   "outputs": [],
   "source": [
    "train_data = pd.read_csv(\"./dataset/train_data.csv\")\n",
    "train_data.head(2)"
   ]
  },
  {
   "cell_type": "code",
   "execution_count": null,
   "id": "9ce00bf9",
   "metadata": {},
   "outputs": [],
   "source": [
    "# type1 = 4\n",
    "# train_data = train_data[train_data.type == type1]\n",
    "# tdf1 = train_data[train_data.type == 1]\n",
    "# tdf2 = train_data[train_data.type == 2]\n",
    "# tdf3 = train_data[train_data.type == 3]\n",
    "# tdf4 = train_data[train_data.type == 4]\n",
    "# tdf5 = train_data[train_data.type == 5]\n",
    "# tdf6 = train_data[train_data.type == 6]\n",
    "# tdf7 = train_data[train_data.type == 7]\n",
    "# tdf = [tdf0, tdf1, tdf2, tdf3, tdf4, tdf5, tdf6, tdf7]"
   ]
  },
  {
   "cell_type": "code",
   "execution_count": null,
   "id": "769d9e11",
   "metadata": {},
   "outputs": [],
   "source": [
    "X_train = train_data.iloc[:,:-1]\n",
    "X_train.head(1)"
   ]
  },
  {
   "cell_type": "code",
   "execution_count": null,
   "id": "4ce7ac20",
   "metadata": {},
   "outputs": [],
   "source": [
    "y_train = train_data[['type']]\n",
    "y_train.head(1)"
   ]
  },
  {
   "cell_type": "markdown",
   "id": "4ccc77cb",
   "metadata": {},
   "source": [
    "## 2. Scaling"
   ]
  },
  {
   "cell_type": "code",
   "execution_count": null,
   "id": "25dd18c6",
   "metadata": {},
   "outputs": [],
   "source": [
    "sc = StandardScaler()\n",
    "X_train = sc.fit_transform(X_train)\n",
    "X_train[:2]"
   ]
  },
  {
   "cell_type": "markdown",
   "id": "bb579d52",
   "metadata": {},
   "source": [
    "## PCA Decomposition"
   ]
  },
  {
   "cell_type": "code",
   "execution_count": null,
   "id": "7c096e6f",
   "metadata": {},
   "outputs": [],
   "source": [
    "pca = PCA(n_components=2)\n",
    "X_train = pca.fit_transform(X_train)\n",
    "X_train"
   ]
  },
  {
   "cell_type": "code",
   "execution_count": null,
   "id": "632cffba",
   "metadata": {},
   "outputs": [],
   "source": [
    "x = X_train.T[0]\n",
    "y = X_train.T[1]"
   ]
  },
  {
   "cell_type": "code",
   "execution_count": null,
   "id": "c8cc57c7",
   "metadata": {},
   "outputs": [],
   "source": [
    "plt.figure(figsize=(15, 6))\n",
    "plt.scatter(x, y, s=500, edgecolor='black')\n",
    "plt.show()"
   ]
  },
  {
   "cell_type": "markdown",
   "id": "209c7d05",
   "metadata": {},
   "source": [
    "## K-Means Clustering"
   ]
  },
  {
   "cell_type": "code",
   "execution_count": null,
   "id": "8b1c334b",
   "metadata": {},
   "outputs": [],
   "source": [
    "kmeans = KMeans(n_clusters=2, random_state=3)\n",
    "kmeans.fit(X_train)\n",
    "X_train"
   ]
  },
  {
   "cell_type": "code",
   "execution_count": null,
   "id": "e0c63014",
   "metadata": {},
   "outputs": [],
   "source": [
    "centroids = kmeans.cluster_centers_ # 센트로이드들의 좌표\n",
    "centroids"
   ]
  },
  {
   "cell_type": "code",
   "execution_count": null,
   "id": "9a06a411",
   "metadata": {},
   "outputs": [],
   "source": [
    "cen_x = centroids.T[0]\n",
    "cen_y = centroids.T[1]"
   ]
  },
  {
   "cell_type": "code",
   "execution_count": null,
   "id": "7841ef1e",
   "metadata": {},
   "outputs": [],
   "source": [
    "y_kmeans = kmeans.fit_predict(X_train)\n",
    "y_kmeans"
   ]
  },
  {
   "cell_type": "code",
   "execution_count": null,
   "id": "1472faee",
   "metadata": {},
   "outputs": [],
   "source": [
    "plt.figure(figsize=(15, 6))\n",
    "plt.scatter(x, y, s=500, edgecolor='black')\n",
    "plt.scatter(cen_x, cen_y, s=500, marker=\"s\")\n",
    "plt.show()"
   ]
  },
  {
   "cell_type": "code",
   "execution_count": null,
   "id": "f530fffb",
   "metadata": {},
   "outputs": [],
   "source": [
    "plt.figure(figsize=(15, 6))\n",
    "\n",
    "for cluster in range(2):\n",
    "    plt.scatter(X_train[y_kmeans == cluster, 0], X_train[y_kmeans == cluster, 1], s=500, edgecolor='black')\n",
    "    plt.scatter(cen_x, cen_y, s=300, edgecolor='black', color='yellow', marker='s')\n",
    "    plt.text(centroids[cluster, 0], centroids[cluster, 1], cluster, va='center', ha='center')\n",
    "    \n",
    "plt.show()"
   ]
  },
  {
   "cell_type": "code",
   "execution_count": null,
   "id": "2200aab1",
   "metadata": {},
   "outputs": [],
   "source": [
    "# Calculate the distances between each data point and the centroids\n",
    "distances = pairwise_distances(X_train, centroids)\n",
    "distances"
   ]
  },
  {
   "cell_type": "code",
   "execution_count": null,
   "id": "51d543a8",
   "metadata": {},
   "outputs": [],
   "source": [
    "max_distances = np.max(distances, axis=0)\n",
    "max_distances"
   ]
  },
  {
   "cell_type": "markdown",
   "id": "20821cdc",
   "metadata": {},
   "source": [
    "## Save Model"
   ]
  },
  {
   "cell_type": "code",
   "execution_count": null,
   "id": "64b9fb9f",
   "metadata": {},
   "outputs": [],
   "source": [
    "joblib.dump(kmeans, 'kmeans_model3.joblib')"
   ]
  },
  {
   "cell_type": "markdown",
   "id": "5e273e28",
   "metadata": {},
   "source": [
    "## Load Model"
   ]
  },
  {
   "cell_type": "code",
   "execution_count": null,
   "id": "b53ed668",
   "metadata": {},
   "outputs": [],
   "source": [
    "kmeans3 = joblib.load('kmeans_model.joblib')"
   ]
  },
  {
   "cell_type": "markdown",
   "id": "58a382ab",
   "metadata": {},
   "source": [
    "## Load Test_Data"
   ]
  },
  {
   "cell_type": "code",
   "execution_count": null,
   "id": "63eaaa34",
   "metadata": {},
   "outputs": [],
   "source": [
    "test_data = pd.read_csv(\"./dataset/test_data.csv\")\n",
    "test_data.head(2)"
   ]
  },
  {
   "cell_type": "code",
   "execution_count": null,
   "id": "7f44a067",
   "metadata": {},
   "outputs": [],
   "source": [
    "# test_data = test_data[test_data.type == type1]"
   ]
  },
  {
   "cell_type": "code",
   "execution_count": null,
   "id": "bba82e31",
   "metadata": {},
   "outputs": [],
   "source": [
    "X_test = test_data.iloc[:,:-1]\n",
    "y_test = test_data[['type']]"
   ]
  },
  {
   "cell_type": "markdown",
   "id": "6c68f0ad",
   "metadata": {},
   "source": [
    "## Scailing Test Data"
   ]
  },
  {
   "cell_type": "code",
   "execution_count": null,
   "id": "d619a5b4",
   "metadata": {},
   "outputs": [],
   "source": [
    "sc = StandardScaler()\n",
    "X_test = sc.fit_transform(X_test)\n",
    "X_test[:2]"
   ]
  },
  {
   "cell_type": "markdown",
   "id": "162fa3f2",
   "metadata": {},
   "source": [
    "## PCA Decomposition - Test Data"
   ]
  },
  {
   "cell_type": "code",
   "execution_count": null,
   "id": "598a545f",
   "metadata": {},
   "outputs": [],
   "source": [
    "pca = PCA(n_components=2)\n",
    "X_test = pca.fit_transform(X_test)\n",
    "X_test"
   ]
  },
  {
   "cell_type": "code",
   "execution_count": null,
   "id": "d2f30fca",
   "metadata": {},
   "outputs": [],
   "source": [
    "x = X_test.T[0]\n",
    "y = X_test.T[1]\n",
    "plt.figure(figsize=(15, 6))\n",
    "plt.scatter(x, y, s=500, edgecolor='black')\n",
    "plt.show()"
   ]
  },
  {
   "cell_type": "code",
   "execution_count": null,
   "id": "f41d561f",
   "metadata": {},
   "outputs": [],
   "source": [
    "y_kmeans = kmeans3.fit_predict(X_test)\n",
    "y_kmeans[:10]"
   ]
  },
  {
   "cell_type": "code",
   "execution_count": null,
   "id": "ac64510a",
   "metadata": {},
   "outputs": [],
   "source": [
    "plt.figure(figsize=(15, 6))\n",
    "\n",
    "for cluster in range(2):\n",
    "    plt.scatter(X_test[y_kmeans == cluster, 0], X_test[y_kmeans == cluster, 1], s=500, edgecolor='black')\n",
    "    plt.scatter(cen_x, cen_y, s=300, edgecolor='black', color='yellow', marker='s')\n",
    "    plt.text(centroids[cluster, 0], centroids[cluster, 1], cluster, va='center', ha='center')\n",
    "    \n",
    "plt.show()"
   ]
  },
  {
   "cell_type": "markdown",
   "id": "261d1be2",
   "metadata": {},
   "source": [
    "### *** K-Means Clustering의 단점.. 거리중심으로 봐서 패턴을 못 읽는다"
   ]
  },
  {
   "cell_type": "code",
   "execution_count": null,
   "id": "ab200c53",
   "metadata": {},
   "outputs": [],
   "source": [
    "distances = pairwise_distances(X_test, centroids)\n",
    "distances"
   ]
  },
  {
   "cell_type": "markdown",
   "id": "ad8e91b5",
   "metadata": {},
   "source": [
    "### DBSCAN"
   ]
  },
  {
   "cell_type": "code",
   "execution_count": null,
   "id": "2420c673",
   "metadata": {},
   "outputs": [],
   "source": [
    "from sklearn.cluster import DBSCAN"
   ]
  },
  {
   "cell_type": "code",
   "execution_count": null,
   "id": "ca54be73",
   "metadata": {},
   "outputs": [],
   "source": [
    "dbscan = DBSCAN(eps=0.5, min_samples=5)\n",
    "labels = dbscan.fit_predict(X_test)\n",
    "labels.tolist()"
   ]
  },
  {
   "cell_type": "code",
   "execution_count": null,
   "id": "c4587629",
   "metadata": {},
   "outputs": [],
   "source": [
    "plt.figure(figsize=(15, 6))\n",
    "plt.scatter(X_test[:, 0], X_test[:, 1], c=labels, cmap='viridis')\n",
    "plt.show()"
   ]
  },
  {
   "cell_type": "markdown",
   "id": "7117a8b3",
   "metadata": {},
   "source": [
    "### Affinity Propagation"
   ]
  },
  {
   "cell_type": "code",
   "execution_count": null,
   "id": "3eeeb3e2",
   "metadata": {},
   "outputs": [],
   "source": [
    "from sklearn.cluster import AffinityPropagation\n",
    "\n",
    "aff_prop = AffinityPropagation(damping=0.5, max_iter=500, convergence_iter=15)\n",
    "labels = aff_prop.fit_predict(X_test)\n"
   ]
  },
  {
   "cell_type": "code",
   "execution_count": null,
   "id": "5cb984c6",
   "metadata": {},
   "outputs": [],
   "source": [
    "plt.figure(figsize=(15, 6))\n",
    "plt.scatter(X_test[:, 0], X_test[:, 1], c=labels, cmap='viridis')\n",
    "plt.show()"
   ]
  },
  {
   "cell_type": "code",
   "execution_count": null,
   "id": "320626b9",
   "metadata": {},
   "outputs": [],
   "source": [
    "from sklearn.cluster import AffinityPropagation\n",
    "from sklearn.metrics import *"
   ]
  },
  {
   "cell_type": "code",
   "execution_count": null,
   "id": "bfdda99b",
   "metadata": {},
   "outputs": [],
   "source": [
    "model = AffinityPropagation(preference=-1).fit(X_train)\n",
    "\n",
    "cluster_centers_indices = model.cluster_centers_indices_\n",
    "labels = model.labels_\n",
    "n_clusters_ = len(cluster_centers_indices)\n",
    "\n",
    "print('Estimated number of clusters: %d' % n_clusters_)\n",
    "# print(\"Adjusted Rand Index: %0.3f\" % adjusted_rand_score(labels_true, labels))\n",
    "# print(\"Adjusted Mutual Information: %0.3f\" % adjusted_mutual_info_score(labels_true, labels))\n",
    "print(\"Silhouette Coefficient: %0.3f\" % silhouette_score(X_train, labels, metric='sqeuclidean'))"
   ]
  },
  {
   "cell_type": "code",
   "execution_count": null,
   "id": "4ef61d18",
   "metadata": {},
   "outputs": [],
   "source": [
    "from itertools import cycle\n",
    "plt.figure(figsize=(15, 6))\n",
    "\n",
    "colors = cycle('rgb')\n",
    "for k, col in zip(range(n_clusters_), colors):\n",
    "    class_members = labels == k\n",
    "    cluster_center = X_train[cluster_centers_indices[k]]\n",
    "    plt.plot(X_train[class_members, 0], X_train[class_members, 1], col + '.')\n",
    "    for x in X_train[class_members]:\n",
    "        plt.plot([cluster_center[0], x[0]], [cluster_center[1], x[1]], col, alpha=0.25)\n",
    "    plt.plot(cluster_center[0], cluster_center[1], 'o', mec='k', mew=3, markersize=7)\n",
    "\n",
    "plt.show()"
   ]
  },
  {
   "cell_type": "code",
   "execution_count": null,
   "id": "e1c87f2c",
   "metadata": {},
   "outputs": [],
   "source": []
  }
 ],
 "metadata": {
  "kernelspec": {
   "display_name": "Python 3 (ipykernel)",
   "language": "python",
   "name": "python3"
  },
  "language_info": {
   "codemirror_mode": {
    "name": "ipython",
    "version": 3
   },
   "file_extension": ".py",
   "mimetype": "text/x-python",
   "name": "python",
   "nbconvert_exporter": "python",
   "pygments_lexer": "ipython3",
   "version": "3.8.10"
  }
 },
 "nbformat": 4,
 "nbformat_minor": 5
}
