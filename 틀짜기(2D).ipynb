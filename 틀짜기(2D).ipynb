{
 "cells": [
  {
   "cell_type": "markdown",
   "id": "fbcddb7e",
   "metadata": {},
   "source": []
  },
  {
   "cell_type": "code",
   "execution_count": 728,
   "id": "2c475014",
   "metadata": {},
   "outputs": [],
   "source": [
    "from sklearn.cluster import KMeans\n",
    "from sklearn.metrics import pairwise_distances\n",
    "import numpy as np\n",
    "import matplotlib.pyplot as plt\n",
    "import joblib"
   ]
  },
  {
   "cell_type": "code",
   "execution_count": 729,
   "id": "c0fdf62f",
   "metadata": {},
   "outputs": [],
   "source": [
    "# Create some sample data\n",
    "\n",
    "X = np.array([[1, 2], [1, 4], [1, 0],\n",
    "              [4, 2], [4, 4], [4, 0]])"
   ]
  },
  {
   "cell_type": "code",
   "execution_count": 730,
   "id": "7fc58940",
   "metadata": {},
   "outputs": [
    {
     "data": {
      "text/plain": [
       "array([[1, 2],\n",
       "       [1, 4],\n",
       "       [1, 0],\n",
       "       [4, 2],\n",
       "       [4, 4],\n",
       "       [4, 0]])"
      ]
     },
     "execution_count": 730,
     "metadata": {},
     "output_type": "execute_result"
    }
   ],
   "source": [
    "# Create a KMeans object and fit it to the data\n",
    "kmeans = KMeans(n_clusters=2, random_state=3)\n",
    "kmeans.fit(X)\n",
    "X"
   ]
  },
  {
   "cell_type": "code",
   "execution_count": 731,
   "id": "aede3730",
   "metadata": {},
   "outputs": [],
   "source": [
    "x = X.T[0]\n",
    "y = X.T[1]"
   ]
  },
  {
   "cell_type": "code",
   "execution_count": 732,
   "id": "e4d3c1aa",
   "metadata": {},
   "outputs": [
    {
     "data": {
      "text/plain": [
       "array([[2.        , 0.66666667],\n",
       "       [3.        , 3.33333333]])"
      ]
     },
     "execution_count": 732,
     "metadata": {},
     "output_type": "execute_result"
    }
   ],
   "source": [
    "centroids = kmeans.cluster_centers_ # 센트로이드들의 좌표\n",
    "centroids"
   ]
  },
  {
   "cell_type": "code",
   "execution_count": 733,
   "id": "82a121d7",
   "metadata": {},
   "outputs": [],
   "source": [
    "cen_x = centroids.T[0]\n",
    "cen_y = centroids.T[1]"
   ]
  },
  {
   "cell_type": "code",
   "execution_count": 734,
   "id": "91493a17",
   "metadata": {},
   "outputs": [
    {
     "data": {
      "image/png": "[encoded data removed]",
      "text/plain": [
       "<Figure size 1080x432 with 1 Axes>"
      ]
     },
     "metadata": {
      "needs_background": "light"
     },
     "output_type": "display_data"
    }
   ],
   "source": [
    "plt.figure(figsize=(15, 6))\n",
    "plt.scatter(x, y, s=500, edgecolor='black')\n",
    "plt.scatter(cen_x, cen_y, s=500, marker=\"s\")\n",
    "plt.show()"
   ]
  },
  {
   "cell_type": "code",
   "execution_count": 735,
   "id": "a3f13239",
   "metadata": {},
   "outputs": [
    {
     "data": {
      "text/plain": [
       "array([[1.66666667, 2.40370085],\n",
       "       [3.48010217, 2.10818511],\n",
       "       [1.20185043, 3.88730126],\n",
       "       [2.40370085, 1.66666667],\n",
       "       [3.88730126, 1.20185043],\n",
       "       [2.10818511, 3.48010217]])"
      ]
     },
     "execution_count": 735,
     "metadata": {},
     "output_type": "execute_result"
    }
   ],
   "source": [
    "# Calculate the distances between each data point and the centroids\n",
    "distances = pairwise_distances(X, centroids)\n",
    "distances"
   ]
  },
  {
   "cell_type": "code",
   "execution_count": 736,
   "id": "06966b04",
   "metadata": {},
   "outputs": [
    {
     "data": {
      "text/plain": [
       "array([2.45796775, 2.45796775])"
      ]
     },
     "execution_count": 736,
     "metadata": {},
     "output_type": "execute_result"
    }
   ],
   "source": [
    "# Calculate the average distance between each centroid and its assigned data points\n",
    "avg_distances = np.mean(distances, axis=0)\n",
    "avg_distances"
   ]
  },
  {
   "cell_type": "code",
   "execution_count": 737,
   "id": "1c3af387",
   "metadata": {},
   "outputs": [
    {
     "data": {
      "text/plain": [
       "array([3.88730126, 3.88730126])"
      ]
     },
     "execution_count": 737,
     "metadata": {},
     "output_type": "execute_result"
    }
   ],
   "source": [
    "# Calculate the average distance between each centroid and its assigned data points\n",
    "max_distances = np.max(distances, axis=0)\n",
    "max_distances"
   ]
  },
  {
   "cell_type": "code",
   "execution_count": 738,
   "id": "db3321c9",
   "metadata": {},
   "outputs": [
    {
     "data": {
      "text/plain": [
       "['kmeans_model.joblib']"
      ]
     },
     "execution_count": 738,
     "metadata": {},
     "output_type": "execute_result"
    }
   ],
   "source": [
    "joblib.dump(kmeans, 'kmeans_model.joblib')"
   ]
  },
  {
   "cell_type": "code",
   "execution_count": 739,
   "id": "29088d8f",
   "metadata": {},
   "outputs": [],
   "source": []
  },
  {
   "cell_type": "code",
   "execution_count": 740,
   "id": "2528fecc",
   "metadata": {},
   "outputs": [],
   "source": [
    "kmeans = joblib.load('kmeans_model.joblib')"
   ]
  },
  {
   "cell_type": "code",
   "execution_count": 741,
   "id": "3e3aac54",
   "metadata": {},
   "outputs": [],
   "source": [
    "X = np.array([[1, 2], [1, 4], [1, 0],[2, 3], [2, 1], [3, 1], [3,3],\n",
    "              [4, 2], [4, 4], [4, 0]])\n"
   ]
  },
  {
   "cell_type": "code",
   "execution_count": 742,
   "id": "52a89840",
   "metadata": {},
   "outputs": [
    {
     "data": {
      "text/plain": [
       "array([[2.        , 0.66666667],\n",
       "       [3.        , 3.33333333]])"
      ]
     },
     "execution_count": 742,
     "metadata": {},
     "output_type": "execute_result"
    }
   ],
   "source": [
    "centroids = kmeans.cluster_centers_ # 센트로이드들의 좌표\n",
    "centroids"
   ]
  },
  {
   "cell_type": "code",
   "execution_count": 743,
   "id": "8d1cf644",
   "metadata": {},
   "outputs": [],
   "source": [
    "cen_x = centroids.T[0]\n",
    "cen_y = centroids.T[1]"
   ]
  },
  {
   "cell_type": "code",
   "execution_count": 744,
   "id": "5b9e5cdc",
   "metadata": {},
   "outputs": [
    {
     "data": {
      "text/plain": [
       "array([1, 0, 1, 0, 1, 1, 0, 0, 0, 1])"
      ]
     },
     "execution_count": 744,
     "metadata": {},
     "output_type": "execute_result"
    }
   ],
   "source": [
    "\n",
    "y_kmeans = kmeans.fit_predict(X)\n",
    "y_kmeans"
   ]
  },
  {
   "cell_type": "code",
   "execution_count": 745,
   "id": "cb188d23",
   "metadata": {},
   "outputs": [
    {
     "data": {
      "image/png": "[encoded data removed]",
      "text/plain": [
       "<Figure size 1080x432 with 1 Axes>"
      ]
     },
     "metadata": {
      "needs_background": "light"
     },
     "output_type": "display_data"
    }
   ],
   "source": [
    "plt.figure(figsize=(15, 6))\n",
    "\n",
    "for cluster in range(2):\n",
    "    plt.scatter(X[y_kmeans == cluster, 0], X[y_kmeans == cluster, 1], s=500, edgecolor='black')\n",
    "    plt.scatter(cen_x, cen_y, s=300, edgecolor='black', color='yellow', marker='s')\n",
    "    plt.text(centroids[cluster, 0], centroids[cluster, 1], cluster, va='center', ha='center')\n",
    "    \n",
    "plt.show()"
   ]
  },
  {
   "cell_type": "code",
   "execution_count": 746,
   "id": "2a700271",
   "metadata": {},
   "outputs": [
    {
     "data": {
      "text/plain": [
       "array([[1.66666667, 2.40370085],\n",
       "       [3.48010217, 2.10818511],\n",
       "       [1.20185043, 3.88730126],\n",
       "       [2.33333333, 1.05409255],\n",
       "       [0.33333333, 2.53859104],\n",
       "       [1.05409255, 2.33333333],\n",
       "       [2.53859104, 0.33333333],\n",
       "       [2.40370085, 1.66666667],\n",
       "       [3.88730126, 1.20185043],\n",
       "       [2.10818511, 3.48010217]])"
      ]
     },
     "execution_count": 746,
     "metadata": {},
     "output_type": "execute_result"
    }
   ],
   "source": [
    "# Calculate the distances between each data point and the centroids\n",
    "distances = pairwise_distances(X, centroids)\n",
    "distances"
   ]
  },
  {
   "cell_type": "code",
   "execution_count": 747,
   "id": "61ea1456",
   "metadata": {},
   "outputs": [
    {
     "data": {
      "text/plain": [
       "array([3.88730126, 3.88730126])"
      ]
     },
     "execution_count": 747,
     "metadata": {},
     "output_type": "execute_result"
    }
   ],
   "source": [
    "# Calculate the average distance between each centroid and its assigned data points\n",
    "max_distances = np.max(distances, axis=0)\n",
    "max_distances"
   ]
  },
  {
   "cell_type": "code",
   "execution_count": 748,
   "id": "a32928e8",
   "metadata": {},
   "outputs": [],
   "source": [
    "dist1, dist2 = max_distances[0], max_distances[1]"
   ]
  },
  {
   "cell_type": "code",
   "execution_count": 749,
   "id": "8b10fc27",
   "metadata": {},
   "outputs": [
    {
     "data": {
      "text/plain": [
       "3.8873012632302"
      ]
     },
     "execution_count": 749,
     "metadata": {},
     "output_type": "execute_result"
    }
   ],
   "source": [
    "dist1"
   ]
  },
  {
   "cell_type": "code",
   "execution_count": 758,
   "id": "34d83f26",
   "metadata": {},
   "outputs": [],
   "source": [
    "# 새로운 샘플 생성 (이상한 값 포함)\n",
    "# 학습으로 지정된 센트로이드로부터 각 좌표 거리 측정\n",
    "# 학습당시 클러스팅 범위(Max 거리)와 비교하여 라벨링"
   ]
  },
  {
   "cell_type": "code",
   "execution_count": 750,
   "id": "d3f1774b",
   "metadata": {},
   "outputs": [],
   "source": [
    "new_X = np.array([[1, 2], [1, 4], [1, 0],[2, 3], [2, 1], [3, 1], [3,3],[5,3],[6,3],[7,3],[8,3],[9,3],\n",
    "              [4, 2], [4, 4], [4, 0], [10, 2],[10, 5] ,[10, 3]])\n"
   ]
  },
  {
   "cell_type": "code",
   "execution_count": 751,
   "id": "2bbf1c5f",
   "metadata": {},
   "outputs": [
    {
     "data": {
      "text/plain": [
       "array([1, 1, 1, 1, 1, 1, 1, 0, 0, 0, 2, 2, 0, 0, 1, 2, 2, 2])"
      ]
     },
     "execution_count": 751,
     "metadata": {},
     "output_type": "execute_result"
    }
   ],
   "source": [
    "kmeans = KMeans(n_clusters=3)\n",
    "y_kmeans = kmeans.fit_predict(new_X)\n",
    "y_kmeans"
   ]
  },
  {
   "cell_type": "code",
   "execution_count": 752,
   "id": "1d05f6ae",
   "metadata": {},
   "outputs": [
    {
     "data": {
      "image/png": "[encoded data removed]",
      "text/plain": [
       "<Figure size 1080x432 with 1 Axes>"
      ]
     },
     "metadata": {
      "needs_background": "light"
     },
     "output_type": "display_data"
    }
   ],
   "source": [
    "plt.figure(figsize=(15, 6))\n",
    "\n",
    "for cluster in range(3):\n",
    "    plt.scatter(new_X[y_kmeans == cluster, 0], new_X[y_kmeans == cluster, 1], s=500, edgecolor='black')\n",
    "    plt.scatter(cen_x, cen_y, s=300, edgecolor='black', color='yellow', marker='s')\n",
    "\n",
    "    \n",
    "plt.show()"
   ]
  },
  {
   "cell_type": "code",
   "execution_count": 753,
   "id": "b2008dca",
   "metadata": {},
   "outputs": [
    {
     "data": {
      "text/plain": [
       "array([[1.66666667, 2.40370085],\n",
       "       [3.48010217, 2.10818511],\n",
       "       [1.20185043, 3.88730126],\n",
       "       [2.33333333, 1.05409255],\n",
       "       [0.33333333, 2.53859104],\n",
       "       [1.05409255, 2.33333333],\n",
       "       [2.53859104, 0.33333333],\n",
       "       [3.80058475, 2.02758751],\n",
       "       [4.63081466, 3.01846171],\n",
       "       [5.51764845, 4.01386486],\n",
       "       [6.43773597, 5.01109879],\n",
       "       [7.37864787, 6.00925213],\n",
       "       [2.40370085, 1.66666667],\n",
       "       [3.88730126, 1.20185043],\n",
       "       [2.10818511, 3.48010217],\n",
       "       [8.11035004, 7.12585278],\n",
       "       [9.09822938, 7.19567771],\n",
       "       [8.33333333, 7.00793201]])"
      ]
     },
     "execution_count": 753,
     "metadata": {},
     "output_type": "execute_result"
    }
   ],
   "source": [
    "distances = pairwise_distances(new_X, centroids)\n",
    "distances"
   ]
  },
  {
   "cell_type": "code",
   "execution_count": 754,
   "id": "8364d2ab",
   "metadata": {},
   "outputs": [
    {
     "data": {
      "text/plain": [
       "array([1.66666667, 2.40370085])"
      ]
     },
     "execution_count": 754,
     "metadata": {},
     "output_type": "execute_result"
    }
   ],
   "source": [
    "distances[0]"
   ]
  },
  {
   "cell_type": "code",
   "execution_count": null,
   "id": "596d63df",
   "metadata": {},
   "outputs": [],
   "source": []
  },
  {
   "cell_type": "code",
   "execution_count": 755,
   "id": "c8564066",
   "metadata": {},
   "outputs": [
    {
     "name": "stdout",
     "output_type": "stream",
     "text": [
      "[0, 0, 0, 0, 0, 0, 0, 0, 0, 1, 1, 1, 0, 0, 0, 1, 1, 1]\n"
     ]
    }
   ],
   "source": [
    "# train data 모델링에서 나온 클러스터링 Max 거리 이하면 0(정상), 초과면 1(이상)\n",
    "labels = []\n",
    "for i in distances:\n",
    "    if i[0] <= dist1 or i[1] <= dist2:\n",
    "        label = 0 # 정상\n",
    "        labels.append(label)\n",
    "    else:\n",
    "        label = 1 # 이상\n",
    "        labels.append(label)\n",
    "print(labels)\n",
    "    "
   ]
  },
  {
   "cell_type": "code",
   "execution_count": 756,
   "id": "8e56d6c8",
   "metadata": {},
   "outputs": [
    {
     "data": {
      "text/plain": [
       "array([0, 0, 0, 0, 0, 0, 0, 0, 0, 1, 1, 1, 0, 0, 0, 1, 1, 1])"
      ]
     },
     "execution_count": 756,
     "metadata": {},
     "output_type": "execute_result"
    }
   ],
   "source": [
    "labels = np.array(labels)\n",
    "labels"
   ]
  },
  {
   "cell_type": "code",
   "execution_count": 757,
   "id": "33dba908",
   "metadata": {},
   "outputs": [
    {
     "data": {
      "image/png": "[encoded data removed]",
      "text/plain": [
       "<Figure size 1080x432 with 1 Axes>"
      ]
     },
     "metadata": {
      "needs_background": "light"
     },
     "output_type": "display_data"
    }
   ],
   "source": [
    "plt.figure(figsize=(15, 6))\n",
    "\n",
    "for cluster in range(2):\n",
    "    plt.scatter(new_X[labels == cluster, 0], new_X[labels == cluster, 1], s=600, edgecolor='black')\n",
    "    plt.scatter(cen_x, cen_y, s=300, edgecolor='black', color='yellow', marker='s')\n",
    "\n",
    "    \n",
    "plt.show()"
   ]
  },
  {
   "cell_type": "code",
   "execution_count": null,
   "id": "1b2482d7",
   "metadata": {},
   "outputs": [],
   "source": []
  },
  {
   "cell_type": "code",
   "execution_count": null,
   "id": "9d9c13c2",
   "metadata": {},
   "outputs": [],
   "source": []
  },
  {
   "cell_type": "code",
   "execution_count": null,
   "id": "0a444edd",
   "metadata": {},
   "outputs": [],
   "source": []
  }
 ],
 "metadata": {
  "kernelspec": {
   "display_name": "Python 3 (ipykernel)",
   "language": "python",
   "name": "python3"
  },
  "language_info": {
   "codemirror_mode": {
    "name": "ipython",
    "version": 3
   },
   "file_extension": ".py",
   "mimetype": "text/x-python",
   "name": "python",
   "nbconvert_exporter": "python",
   "pygments_lexer": "ipython3",
   "version": "3.8.10"
  }
 },
 "nbformat": 4,
 "nbformat_minor": 5
}
